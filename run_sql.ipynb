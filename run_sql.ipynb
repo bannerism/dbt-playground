{
 "cells": [
  {
   "cell_type": "code",
   "execution_count": null,
   "metadata": {},
   "outputs": [],
   "source": [
    "import duckdb\n",
    "import pandas as pd\n",
    "\n",
    "database='data/eurocup.db'\n",
    "def sql(query,database):\n",
    "  sql_query = f'''{query}'''\n",
    "\n",
    "  with duckdb.connect(database) as con:\n",
    "      display(con.sql(sql_query).df())\n"
   ]
  }
 ],
 "metadata": {
  "language_info": {
   "name": "python"
  }
 },
 "nbformat": 4,
 "nbformat_minor": 2
}
